{
 "cells": [
  {
   "cell_type": "code",
   "execution_count": 16,
   "metadata": {},
   "outputs": [],
   "source": [
    "import os"
   ]
  },
  {
   "cell_type": "code",
   "execution_count": 17,
   "metadata": {},
   "outputs": [],
   "source": [
    "path_example_input = \"./example_input.txt\"\n",
    "path_test_input = \"./test_input.txt\""
   ]
  },
  {
   "cell_type": "code",
   "execution_count": 20,
   "metadata": {},
   "outputs": [],
   "source": [
    "def read_list(path_to_inventory_list):\n",
    "    with open(path_to_inventory_list, 'r') as f:\n",
    "        data = [d.replace('\\n', '') for d in f.readlines()]\n",
    "    return data\n",
    "\n",
    "def count_calories_per_elf(inventory_list):\n",
    "    elves = []\n",
    "    current_elf = 0\n",
    "    for item in inventory_list:\n",
    "        if item == '':\n",
    "            elves.append(current_elf)\n",
    "            current_elf = 0\n",
    "            continue\n",
    "        else:\n",
    "            calories = int(item)\n",
    "            current_elf += calories\n",
    "\n",
    "    return elves\n",
    "\n",
    "def determine_max_calories(path_to_inventory_list):\n",
    "    inventory_list = read_list(path_to_inventory_list)\n",
    "    calories_per_elf = count_calories_per_elf(inventory_list)\n",
    "    return max(calories_per_elf)"
   ]
  },
  {
   "cell_type": "code",
   "execution_count": 22,
   "metadata": {},
   "outputs": [
    {
     "data": {
      "text/plain": [
       "24000"
      ]
     },
     "execution_count": 22,
     "metadata": {},
     "output_type": "execute_result"
    }
   ],
   "source": [
    "max_example_calories = determine_max_calories(path_example_input)\n",
    "max_test_calories = determine_max_calories(path_test_input)"
   ]
  },
  {
   "cell_type": "code",
   "execution_count": 23,
   "metadata": {},
   "outputs": [
    {
     "data": {
      "text/plain": [
       "67658"
      ]
     },
     "execution_count": 23,
     "metadata": {},
     "output_type": "execute_result"
    }
   ],
   "source": []
  }
 ],
 "metadata": {
  "kernelspec": {
   "display_name": "Python 3.10.5 64-bit",
   "language": "python",
   "name": "python3"
  },
  "language_info": {
   "codemirror_mode": {
    "name": "ipython",
    "version": 3
   },
   "file_extension": ".py",
   "mimetype": "text/x-python",
   "name": "python",
   "nbconvert_exporter": "python",
   "pygments_lexer": "ipython3",
   "version": "3.10.5"
  },
  "orig_nbformat": 4,
  "vscode": {
   "interpreter": {
    "hash": "e722b59514372f1067055f4459c08f1716503ebc626df1df188326384d700b09"
   }
  }
 },
 "nbformat": 4,
 "nbformat_minor": 2
}

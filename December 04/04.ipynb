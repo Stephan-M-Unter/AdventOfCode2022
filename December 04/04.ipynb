{
 "cells": [
  {
   "cell_type": "code",
   "execution_count": 25,
   "metadata": {},
   "outputs": [],
   "source": [
    "def check_section_plan(path):\n",
    "    with open(path, 'r') as f:\n",
    "        section_plans = [pair.replace('\\n', '') for pair in f.readlines()]\n",
    "    return section_plans\n",
    "\n",
    "def find_containers(path):\n",
    "    amount = 0\n",
    "    section_plans = check_section_plan(path)\n",
    "\n",
    "    for pair in section_plans:\n",
    "        person1, person2 = pair.split(',')\n",
    "        p1_range = [x for x in range(int(person1.split('-')[0]), int(person1.split('-')[1])+1)]\n",
    "        p2_range = [x for x in range(int(person2.split('-')[0]), int(person2.split('-')[1])+1)]\n",
    "\n",
    "        if (len(p1_range) == len([x for x in p1_range if x in p2_range])):\n",
    "            amount += 1\n",
    "            continue\n",
    "        if (len(p2_range) == len([x for x in p2_range if x in p1_range])):\n",
    "            amount += 1\n",
    "            continue\n",
    "\n",
    "    return amount\n",
    "\n",
    "def find_overlaps(path):\n",
    "    amount = 0\n",
    "    section_plans = check_section_plan(path)\n",
    "\n",
    "    for pair in section_plans:\n",
    "        person1, person2 = pair.split(',')\n",
    "        p1_range = [x for x in range(int(person1.split('-')[0]), int(person1.split('-')[1])+1)]\n",
    "        p2_range = [x for x in range(int(person2.split('-')[0]), int(person2.split('-')[1])+1)]\n",
    "\n",
    "        if (len([x for x in p1_range if x in p2_range]) > 0):\n",
    "            amount += 1\n",
    "            continue\n",
    "        if (len([x for x in p2_range if x in p1_range]) > 0):\n",
    "            amount += 1\n",
    "            continue\n",
    "\n",
    "    return amount"
   ]
  },
  {
   "cell_type": "code",
   "execution_count": 24,
   "metadata": {},
   "outputs": [
    {
     "name": "stdout",
     "output_type": "stream",
     "text": [
      "##########################################################################################\n",
      "  *     *        *        *  *        *     *        *   *   *      *      *    *    *    \n",
      "In the _example case_ there are 2 cases where sections are fully contained.\n",
      "In the _test case_ there are 542 cases where sections are fully contained.\n",
      "  *   *     *       *        *        *     *    *      *   *      *       *    *    *    \n",
      "##########################################################################################\n"
     ]
    }
   ],
   "source": [
    "example = \"./example_input.txt\"\n",
    "test = \"./test_input.txt\"\n",
    "\n",
    "example_container = find_containers(example)\n",
    "test_container = find_containers(test)\n",
    "\n",
    "print('##########################################################################################')\n",
    "print('  *     *        *        *  *        *     *        *   *   *      *      *    *    *    ')\n",
    "print(f'In the _example case_ there are {example_container} cases where sections are fully contained.')\n",
    "print(f'In the _test case_ there are {test_container} cases where sections are fully contained.')\n",
    "print('  *   *     *       *        *        *     *    *      *   *      *       *    *    *    ')\n",
    "print('##########################################################################################')"
   ]
  },
  {
   "cell_type": "code",
   "execution_count": 26,
   "metadata": {},
   "outputs": [
    {
     "name": "stdout",
     "output_type": "stream",
     "text": [
      "##########################################################################################\n",
      "  *     *        *        *  *        *     *        *   *   *      *      *    *    *    \n",
      "In the _example case_ there are 4 cases where sections overlap.\n",
      "In the _test case_ there are 900 cases where sections overlap.\n",
      "  *   *     *       *        *        *     *    *      *   *      *       *    *    *    \n",
      "##########################################################################################\n"
     ]
    }
   ],
   "source": [
    "example_overlap = find_overlaps(example)\n",
    "test_overlap = find_overlaps(test)\n",
    "\n",
    "print('##########################################################################################')\n",
    "print('  *     *        *        *  *        *     *        *   *   *      *      *    *    *    ')\n",
    "print(f'In the _example case_ there are {example_overlap} cases where sections overlap.')\n",
    "print(f'In the _test case_ there are {test_overlap} cases where sections overlap.')\n",
    "print('  *   *     *       *        *        *     *    *      *   *      *       *    *    *    ')\n",
    "print('##########################################################################################')"
   ]
  }
 ],
 "metadata": {
  "kernelspec": {
   "display_name": "Python 3.10.5 64-bit",
   "language": "python",
   "name": "python3"
  },
  "language_info": {
   "codemirror_mode": {
    "name": "ipython",
    "version": 3
   },
   "file_extension": ".py",
   "mimetype": "text/x-python",
   "name": "python",
   "nbconvert_exporter": "python",
   "pygments_lexer": "ipython3",
   "version": "3.10.5"
  },
  "orig_nbformat": 4,
  "vscode": {
   "interpreter": {
    "hash": "e722b59514372f1067055f4459c08f1716503ebc626df1df188326384d700b09"
   }
  }
 },
 "nbformat": 4,
 "nbformat_minor": 2
}

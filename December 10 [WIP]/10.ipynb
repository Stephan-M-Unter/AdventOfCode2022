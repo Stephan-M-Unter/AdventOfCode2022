{
 "cells": [
  {
   "cell_type": "code",
   "execution_count": 51,
   "metadata": {},
   "outputs": [],
   "source": [
    "def read_operations(path):\n",
    "    with open(path, 'r') as f:\n",
    "        operations = [line.replace('\\n', '') for line in f.readlines()]\n",
    "    return operations\n",
    "\n",
    "def signal_strengths(path, name):\n",
    "    operations = read_operations(path)\n",
    "\n",
    "    signal_log = []\n",
    "    current_signal = 1\n",
    "\n",
    "    for operation in operations:\n",
    "        if 'noop' in operation:\n",
    "            signal_log.append(current_signal)\n",
    "            current_signal = current_signal\n",
    "        else:\n",
    "            op, val = operation.split(' ')\n",
    "            signal_log.append(current_signal)\n",
    "            signal_log.append(current_signal)\n",
    "            current_signal += int(val)\n",
    "\n",
    "    signal_strength = 0\n",
    "\n",
    "    for cycle in range(20, len(signal_log), 40):\n",
    "        print(f'Signal at cycle {cycle}: {signal_log[cycle]} \\t Signal strength: {signal_log[cycle]*cycle}')\n",
    "        signal_strength += signal_log[cycle]*cycle\n",
    "\n",
    "    # print(signal_log[:20])\n",
    "    \n",
    "\n",
    "    print('##########################################################################################')\n",
    "    print('  *     *        *        *  *        *     *        *   *   *      *      *    *    *    ')\n",
    "    print(f'\\tFor the {name} case the signals combine into a strength of {signal_strength}.')\n",
    "    print('  *   *     *       *        *        *     *    *      *   *      *       *    *    *    ')\n",
    "    print('##########################################################################################')"
   ]
  },
  {
   "cell_type": "code",
   "execution_count": 92,
   "metadata": {},
   "outputs": [
    {
     "name": "stdout",
     "output_type": "stream",
     "text": [
      "Signal at cycle 20: 21 \t Signal strength: 420\n",
      "Signal at cycle 60: 19 \t Signal strength: 1140\n",
      "Signal at cycle 100: 18 \t Signal strength: 1800\n",
      "Signal at cycle 140: 21 \t Signal strength: 2940\n",
      "Signal at cycle 180: 16 \t Signal strength: 2880\n",
      "Signal at cycle 220: 19 \t Signal strength: 4180\n",
      "##########################################################################################\n",
      "  *     *        *        *  *        *     *        *   *   *      *      *    *    *    \n",
      "\tFor the example case the signals combine into a strength of 13360.\n",
      "  *   *     *       *        *        *     *    *      *   *      *       *    *    *    \n",
      "##########################################################################################\n",
      "Signal at cycle 20: 21 \t Signal strength: 420\n",
      "Signal at cycle 60: 19 \t Signal strength: 1140\n",
      "Signal at cycle 100: 21 \t Signal strength: 2100\n",
      "Signal at cycle 140: 19 \t Signal strength: 2660\n",
      "Signal at cycle 180: 21 \t Signal strength: 3780\n",
      "Signal at cycle 220: 21 \t Signal strength: 4620\n",
      "##########################################################################################\n",
      "  *     *        *        *  *        *     *        *   *   *      *      *    *    *    \n",
      "\tFor the test case the signals combine into a strength of 14720.\n",
      "  *   *     *       *        *        *     *    *      *   *      *       *    *    *    \n",
      "##########################################################################################\n"
     ]
    }
   ],
   "source": [
    "example = \"./example.txt\"\n",
    "test = \"./test.txt\"\n",
    "\n",
    "signal_strengths(example, 'example')\n",
    "signal_strengths(test, 'test')"
   ]
  }
 ],
 "metadata": {
  "kernelspec": {
   "display_name": "Python 3",
   "language": "python",
   "name": "python3"
  },
  "language_info": {
   "codemirror_mode": {
    "name": "ipython",
    "version": 3
   },
   "file_extension": ".py",
   "mimetype": "text/x-python",
   "name": "python",
   "nbconvert_exporter": "python",
   "pygments_lexer": "ipython3",
   "version": "3.10.5 (tags/v3.10.5:f377153, Jun  6 2022, 16:14:13) [MSC v.1929 64 bit (AMD64)]"
  },
  "orig_nbformat": 4,
  "vscode": {
   "interpreter": {
    "hash": "e722b59514372f1067055f4459c08f1716503ebc626df1df188326384d700b09"
   }
  }
 },
 "nbformat": 4,
 "nbformat_minor": 2
}

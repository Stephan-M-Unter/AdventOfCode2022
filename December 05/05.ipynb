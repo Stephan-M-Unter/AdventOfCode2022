{
 "cells": [
  {
   "cell_type": "code",
   "execution_count": 27,
   "metadata": {},
   "outputs": [],
   "source": [
    "def open_schemes(path):\n",
    "    with open(path, 'r') as f:\n",
    "        scheme = [line.replace('\\n', '') for line in f.readlines()]\n",
    "\n",
    "    scheme_split = scheme.index('')\n",
    "    scheme_drawing = scheme[:scheme_split]\n",
    "    scheme_procedure = scheme[scheme_split+1:]\n",
    "    return (scheme_drawing, scheme_procedure)\n",
    "\n",
    "def initialise_stacks(drawing):\n",
    "    # every crate takes 3 positions + 1 blank to separate them\n",
    "    # here, we are reading the number of crate stacks from the\n",
    "    # first line, but obviously you could also use the last line\n",
    "    # from the drawing to determine the number of stacks\n",
    "    n_stacks = len(drawing[0])//4+1\n",
    "    stacks = {stack_nr: [] for stack_nr in range(1, n_stacks+1)}\n",
    "\n",
    "    for line in drawing[:-1]:\n",
    "        for i in range(0, len(line), 4):\n",
    "            stack = line[i:i+3]\n",
    "            if '[' in stack:\n",
    "                stacks[(i/4)+1] = [stack[1]] + stacks[(i/4)+1]\n",
    "\n",
    "    return stacks\n",
    "\n",
    "def move_stacks(stacks, movement_procedure, crateMover9001):\n",
    "    for order in movement_procedure:\n",
    "        _, amount, _, source, _, target = order.split(' ')\n",
    "        if crateMover9001:\n",
    "            # moving all crates at once\n",
    "            stacks[int(target)] = stacks[int(target)] + stacks[int(source)][-int(amount):]\n",
    "            stacks[int(source)] = stacks[int(source)][:-int(amount)]\n",
    "        else:\n",
    "            # moving them crates one by one\n",
    "            for _ in range(int(amount)):\n",
    "                crate = stacks[int(source)].pop()\n",
    "                stacks[int(target)].append(crate)\n",
    "    return stacks\n",
    "\n",
    "def get_topmost_crates(path, crateMover9001=False):\n",
    "    stack_drawing, movement_procedure = open_schemes(path)\n",
    "    stacks = initialise_stacks(stack_drawing)\n",
    "    moved_stacks = move_stacks(stacks, movement_procedure, crateMover9001)\n",
    "    topmost_crates = ''.join([moved_stacks[stack_nr][-1] for stack_nr in moved_stacks.keys() if len(moved_stacks[stack_nr]) > 0])\n",
    "\n",
    "    return topmost_crates"
   ]
  },
  {
   "cell_type": "code",
   "execution_count": 25,
   "metadata": {},
   "outputs": [
    {
     "name": "stdout",
     "output_type": "stream",
     "text": [
      "##########################################################################################\n",
      "  *     *        *        *  *        *     *        *   *   *      *      *    *    *    \n",
      "In the _example case_ the topmost crates are labelled DCP.\n",
      "In the _test case_ the topmost crates are labelled PLFCCZDWV.\n",
      "  *   *     *       *        *        *     *    *      *   *      *       *    *    *    \n",
      "##########################################################################################\n"
     ]
    }
   ],
   "source": [
    "example = \"./example_input.txt\"\n",
    "test = \"./test_input.txt\"\n",
    "\n",
    "# example_tops = get_topmost_crates(example)\n",
    "test_tops = get_topmost_crates(test)\n",
    "\n",
    "print('##########################################################################################')\n",
    "print('  *     *        *        *  *        *     *        *   *   *      *      *    *    *    ')\n",
    "print(f'In the _example case_ the topmost crates are labelled {example_tops}.')\n",
    "print(f'In the _test case_ the topmost crates are labelled {test_tops}.')\n",
    "print('  *   *     *       *        *        *     *    *      *   *      *       *    *    *    ')\n",
    "print('##########################################################################################')"
   ]
  },
  {
   "cell_type": "code",
   "execution_count": 28,
   "metadata": {},
   "outputs": [
    {
     "name": "stdout",
     "output_type": "stream",
     "text": [
      "##########################################################################################\n",
      "  *     *        *        *  *        *     *        *   *   *      *      *    *    *    \n",
      "In the _example case_ the topmost crates are labelled MCD (provided by CrateMover9001).\n",
      "In the _test case_ the topmost crates are labelled DCVTCVPCL (provided by CrateMover9001).\n",
      "  *   *     *       *        *        *     *    *      *   *      *       *    *    *    \n",
      "##########################################################################################\n"
     ]
    }
   ],
   "source": [
    "example_tops_9001 = get_topmost_crates(example, crateMover9001=True)\n",
    "test_tops_9001 = get_topmost_crates(test, crateMover9001=True)\n",
    "\n",
    "print('##########################################################################################')\n",
    "print('  *     *        *        *  *        *     *        *   *   *      *      *    *    *    ')\n",
    "print(f'In the _example case_ the topmost crates are labelled {example_tops_9001} (provided by CrateMover9001).')\n",
    "print(f'In the _test case_ the topmost crates are labelled {test_tops_9001} (provided by CrateMover9001).')\n",
    "print('  *   *     *       *        *        *     *    *      *   *      *       *    *    *    ')\n",
    "print('##########################################################################################')"
   ]
  }
 ],
 "metadata": {
  "kernelspec": {
   "display_name": "Python 3.10.0 64-bit",
   "language": "python",
   "name": "python3"
  },
  "language_info": {
   "codemirror_mode": {
    "name": "ipython",
    "version": 3
   },
   "file_extension": ".py",
   "mimetype": "text/x-python",
   "name": "python",
   "nbconvert_exporter": "python",
   "pygments_lexer": "ipython3",
   "version": "3.10.0"
  },
  "orig_nbformat": 4,
  "vscode": {
   "interpreter": {
    "hash": "94511aecb618281681a6dbf4c1b92f4f159bdc8b429ff22f3a1817317168764b"
   }
  }
 },
 "nbformat": 4,
 "nbformat_minor": 2
}

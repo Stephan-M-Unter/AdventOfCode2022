{
 "cells": [
  {
   "cell_type": "code",
   "execution_count": 22,
   "metadata": {},
   "outputs": [],
   "source": [
    "def read_signal(path):\n",
    "    with open(path, 'r') as f:\n",
    "        signal = [l.replace('\\n', '') for l in f.readlines()]\n",
    "    return signal\n",
    "\n",
    "def find_start_of_packet(signal):\n",
    "    for start in range(0, len(signal)-5, 1):\n",
    "        starter = True\n",
    "        packet = signal[start:start+4]\n",
    "        for character in packet:\n",
    "            if packet.count(character) > 1:\n",
    "                starter = False\n",
    "                break\n",
    "        if starter:\n",
    "            return start+4\n",
    "    return 0\n",
    "\n",
    "def find_start_of_message(signal):\n",
    "    for start in range(0, len(signal)-5, 1):\n",
    "        starter = True\n",
    "        packet = signal[start:start+14]\n",
    "        for character in packet:\n",
    "            if packet.count(character) > 1:\n",
    "                starter = False\n",
    "                break\n",
    "        if starter:\n",
    "            return start+14\n",
    "    return 0"
   ]
  },
  {
   "cell_type": "code",
   "execution_count": 23,
   "metadata": {},
   "outputs": [
    {
     "name": "stdout",
     "output_type": "stream",
     "text": [
      "##########################################################################################\n",
      "  *     *        *        *  *        *     *        *   *   *      *      *    *    *    \n",
      "In the _example case_ the message begins after position [7, 5, 6, 10, 11].\n",
      "In the _test case_ the message begins after position 1287.\n",
      "  *   *     *       *        *        *     *    *      *   *      *       *    *    *    \n",
      "##########################################################################################\n"
     ]
    }
   ],
   "source": [
    "example = \"./example_input.txt\"\n",
    "test = \"./test_input.txt\"\n",
    "\n",
    "example_starter = [find_start_of_packet(path) for path in read_signal(example)]\n",
    "test_starter = find_start_of_packet(read_signal(test)[0])\n",
    "\n",
    "print('##########################################################################################')\n",
    "print('  *     *        *        *  *        *     *        *   *   *      *      *    *    *    ')\n",
    "print(f'In the _example case_ the message begins after position {example_starter}.')\n",
    "print(f'In the _test case_ the message begins after position {test_starter}.')\n",
    "print('  *   *     *       *        *        *     *    *      *   *      *       *    *    *    ')\n",
    "print('##########################################################################################')"
   ]
  },
  {
   "cell_type": "code",
   "execution_count": 24,
   "metadata": {},
   "outputs": [
    {
     "name": "stdout",
     "output_type": "stream",
     "text": [
      "##########################################################################################\n",
      "  *     *        *        *  *        *     *        *   *   *      *      *    *    *    \n",
      "In the _example case_ the message begins after position [19, 23, 23, 29, 26].\n",
      "In the _test case_ the message begins after position 3716.\n",
      "  *   *     *       *        *        *     *    *      *   *      *       *    *    *    \n",
      "##########################################################################################\n"
     ]
    }
   ],
   "source": [
    "example_starter_message = [find_start_of_message(path) for path in read_signal(example)]\n",
    "test_starter_message = find_start_of_message(read_signal(test)[0])\n",
    "\n",
    "print('##########################################################################################')\n",
    "print('  *     *        *        *  *        *     *        *   *   *      *      *    *    *    ')\n",
    "print(f'In the _example case_ the message begins after position {example_starter_message}.')\n",
    "print(f'In the _test case_ the message begins after position {test_starter_message}.')\n",
    "print('  *   *     *       *        *        *     *    *      *   *      *       *    *    *    ')\n",
    "print('##########################################################################################')"
   ]
  }
 ],
 "metadata": {
  "kernelspec": {
   "display_name": "Python 3.10.5 64-bit",
   "language": "python",
   "name": "python3"
  },
  "language_info": {
   "codemirror_mode": {
    "name": "ipython",
    "version": 3
   },
   "file_extension": ".py",
   "mimetype": "text/x-python",
   "name": "python",
   "nbconvert_exporter": "python",
   "pygments_lexer": "ipython3",
   "version": "3.10.5"
  },
  "orig_nbformat": 4,
  "vscode": {
   "interpreter": {
    "hash": "e722b59514372f1067055f4459c08f1716503ebc626df1df188326384d700b09"
   }
  }
 },
 "nbformat": 4,
 "nbformat_minor": 2
}

{
 "cells": [
  {
   "cell_type": "code",
   "execution_count": 10,
   "metadata": {},
   "outputs": [],
   "source": [
    "from pprint import pprint"
   ]
  },
  {
   "cell_type": "code",
   "execution_count": 82,
   "metadata": {},
   "outputs": [],
   "source": [
    "def scan_trees(path):\n",
    "    with open(path, 'r') as f:\n",
    "        trees = [line.replace('\\n', '') for line in f.readlines()]\n",
    "        trees = [[int(tree) for tree in line] for line in trees]\n",
    "    return trees\n",
    "\n",
    "def count_visible_trees(path):\n",
    "    trees = scan_trees(path)\n",
    "    visible_trees = 0\n",
    "\n",
    "    for y in range(len(trees)):\n",
    "        for x in range(len(trees[0])):\n",
    "            # Edges to the left and right\n",
    "            if x == 0 or x == len(trees[0])-1:\n",
    "                visible_trees += 1\n",
    "                continue\n",
    "            # Edges to the top and bottom\n",
    "            if y == 0 or y == len(trees)-1:\n",
    "                visible_trees += 1\n",
    "                continue\n",
    "\n",
    "            tree = trees[y][x]\n",
    "\n",
    "            # check trees on the left\n",
    "            if max(trees[y][:x]) < tree:\n",
    "                visible_trees += 1\n",
    "                continue\n",
    "            # check trees on the right\n",
    "            if max(trees[y][x+1:]) < tree:\n",
    "                visible_trees += 1\n",
    "                continue\n",
    "            # check trees to the top\n",
    "            column = [line[x] for line in trees]\n",
    "            if max(column[:y]) < tree:\n",
    "                visible_trees += 1\n",
    "                continue\n",
    "            # check trees to the bottom\n",
    "            if max(column[y+1:]) < tree:\n",
    "                visible_trees += 1\n",
    "                continue\n",
    "    \n",
    "    print('##########################################################################################')\n",
    "    print('  *     *        *        *  *        *     *        *   *   *      *      *    *    *    ')\n",
    "    print(f'\\tThis forest has {visible_trees} trees that are visible from the edge of the woods.')\n",
    "    print('  *   *     *       *        *        *     *    *      *   *      *       *    *    *    ')\n",
    "    print('##########################################################################################')\n",
    "\n",
    "def directional_scenic_score(tree_line, tree_height):\n",
    "    scenic_score = 0\n",
    "\n",
    "    for tree in tree_line:\n",
    "        scenic_score += 1\n",
    "        if tree >= tree_height:\n",
    "            break\n",
    "\n",
    "    return scenic_score\n",
    "\n",
    "\n",
    "def get_maximal_scenic_score(path):\n",
    "    trees = scan_trees(path)\n",
    "    scenic_score = 0\n",
    "    for y in range(len(trees)):\n",
    "            for x in range(len(trees[0])):\n",
    "                # Edges to the left and right\n",
    "                if x == 0 or x == len(trees[0])-1:\n",
    "                    continue\n",
    "                # Edges to the top and bottom\n",
    "                if y == 0 or y == len(trees)-1:\n",
    "                    continue\n",
    "\n",
    "                tree = trees[y][x]\n",
    "                scenic_value = 1\n",
    "\n",
    "                scenic_value *= directional_scenic_score(trees[y][x+1:], tree) \n",
    "                scenic_value *= directional_scenic_score(list(reversed(trees[y][:x])), tree) \n",
    "                column = [line[x] for line in trees]\n",
    "                scenic_value *= directional_scenic_score(list(reversed(column[:y])), tree) \n",
    "                scenic_value *= directional_scenic_score(column[y+1:], tree)\n",
    "\n",
    "                if scenic_value > scenic_score:\n",
    "                    scenic_score = scenic_value\n",
    "\n",
    "                  \n",
    "    print('##########################################################################################')\n",
    "    print('  *     *        *        *  *        *     *        *   *   *      *      *    *    *    ')\n",
    "    print(f'\\tThe best tree in the forest has a scenic value of {scenic_score}.')\n",
    "    print('  *   *     *       *        *        *     *    *      *   *      *       *    *    *    ')\n",
    "    print('##########################################################################################')"
   ]
  },
  {
   "cell_type": "code",
   "execution_count": 52,
   "metadata": {},
   "outputs": [
    {
     "name": "stdout",
     "output_type": "stream",
     "text": [
      "##########################################################################################\n",
      "  *     *        *        *  *        *     *        *   *   *      *      *    *    *    \n",
      "\tThis forest has 21 trees that are visible from the edge of the woods.\n",
      "  *   *     *       *        *        *     *    *      *   *      *       *    *    *    \n",
      "##########################################################################################\n",
      "##########################################################################################\n",
      "  *     *        *        *  *        *     *        *   *   *      *      *    *    *    \n",
      "\tThis forest has 1816 trees that are visible from the edge of the woods.\n",
      "  *   *     *       *        *        *     *    *      *   *      *       *    *    *    \n",
      "##########################################################################################\n"
     ]
    }
   ],
   "source": [
    "example = \"./example.txt\"\n",
    "test = \"./test.txt\"\n",
    "\n",
    "count_visible_trees(example)\n",
    "count_visible_trees(test)"
   ]
  },
  {
   "cell_type": "code",
   "execution_count": 83,
   "metadata": {},
   "outputs": [
    {
     "name": "stdout",
     "output_type": "stream",
     "text": [
      "##########################################################################################\n",
      "  *     *        *        *  *        *     *        *   *   *      *      *    *    *    \n",
      "\tThe best tree in the forest has a scenic value of 8.\n",
      "  *   *     *       *        *        *     *    *      *   *      *       *    *    *    \n",
      "##########################################################################################\n",
      "##########################################################################################\n",
      "  *     *        *        *  *        *     *        *   *   *      *      *    *    *    \n",
      "\tThe best tree in the forest has a scenic value of 383520.\n",
      "  *   *     *       *        *        *     *    *      *   *      *       *    *    *    \n",
      "##########################################################################################\n"
     ]
    }
   ],
   "source": [
    "get_maximal_scenic_score(example)\n",
    "get_maximal_scenic_score(test)"
   ]
  }
 ],
 "metadata": {
  "kernelspec": {
   "display_name": "Python 3.10.5 64-bit",
   "language": "python",
   "name": "python3"
  },
  "language_info": {
   "codemirror_mode": {
    "name": "ipython",
    "version": 3
   },
   "file_extension": ".py",
   "mimetype": "text/x-python",
   "name": "python",
   "nbconvert_exporter": "python",
   "pygments_lexer": "ipython3",
   "version": "3.10.5"
  },
  "orig_nbformat": 4,
  "vscode": {
   "interpreter": {
    "hash": "e722b59514372f1067055f4459c08f1716503ebc626df1df188326384d700b09"
   }
  }
 },
 "nbformat": 4,
 "nbformat_minor": 2
}

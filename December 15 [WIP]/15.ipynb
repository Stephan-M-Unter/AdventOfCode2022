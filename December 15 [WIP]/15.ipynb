{
 "cells": [
  {
   "cell_type": "code",
   "execution_count": 185,
   "metadata": {},
   "outputs": [],
   "source": [
    "import matplotlib.pyplot as plt\n",
    "import numpy as np\n",
    "\n",
    "def read_sensor_data(path):\n",
    "    with open(path, 'r') as f:\n",
    "        sensor_data = [d.replace('\\n', '') for d in f.readlines()]\n",
    "    return sensor_data\n",
    "\n",
    "def analyse_sensor_data(sensor_data):\n",
    "    sensors = []\n",
    "    beacons = []\n",
    "\n",
    "    for data_entry in sensor_data:\n",
    "        data = data_entry.split(\" \")\n",
    "        sensor_x = int(data[2].split('=')[1].replace(':', '').replace(',', ''))\n",
    "        sensor_y = int(data[3].split('=')[1].replace(':', '').replace(',', ''))\n",
    "        beacon_x = int(data[8].split('=')[1].replace(':', '').replace(',', ''))\n",
    "        beacon_y = int(data[9].split('=')[1].replace(':', '').replace(',', ''))\n",
    "\n",
    "        distance = manhattan_distance((sensor_x, sensor_y), (beacon_x, beacon_y))\n",
    "        \n",
    "        sensor = {\n",
    "            'x': sensor_x,\n",
    "            'y': sensor_y,\n",
    "            'coordinates': (sensor_x, sensor_y),\n",
    "            'closest_beacon': (beacon_x, beacon_y),\n",
    "            'distance': distance,\n",
    "        }\n",
    "\n",
    "        beacon = (beacon_x, beacon_y)\n",
    "        if not beacon in beacons:\n",
    "            beacons.append(beacon)\n",
    "\n",
    "        sensors.append(sensor)\n",
    "\n",
    "    return sensors, beacons\n",
    "\n",
    "def draw_map(sensors, beacons, target_y=None):\n",
    "    x_min = None\n",
    "    x_max = None\n",
    "    y_min = None\n",
    "    y_max = None\n",
    "\n",
    "    for beacon in beacons:\n",
    "        x = beacon[0]\n",
    "        y = beacon[1]\n",
    "        if x_min is None or x < x_min:\n",
    "            x_min = x\n",
    "        if x_max is None or x > x_max:\n",
    "            x_max = x\n",
    "        if y_min is None or y < y_min:\n",
    "            y_min = y\n",
    "        if y_max is None or y > y_max:\n",
    "            y_max = y\n",
    "\n",
    "    for sensor in sensors:\n",
    "        x = sensor['x']\n",
    "        y = sensor['y']\n",
    "        if x_min is None or x < x_min:\n",
    "            x_min = x\n",
    "        if x_max is None or x > x_max:\n",
    "            x_max = x\n",
    "        if y_min is None or y < y_min:\n",
    "            y_min = y\n",
    "        if y_max is None or y > y_max:\n",
    "            y_max = y\n",
    "\n",
    "    w = x_max - x_min + 1\n",
    "    h = y_max - y_min + 1\n",
    "\n",
    "    print(f'x_min: {x_min}')\n",
    "    print(f'x_max: {x_max}')\n",
    "    print(f'y_min: {y_min}')\n",
    "    print(f'y_max: {y_max}')\n",
    "    print(f'width: {w}')\n",
    "    print(f'height: {h}')\n",
    "\n",
    "    map = np.zeros((h, w, 3))\n",
    "\n",
    "    if target_y is not None:\n",
    "        target_y -= y_min\n",
    "\n",
    "    for beacon in beacons:\n",
    "        x = beacon[0] - x_min\n",
    "        y = beacon[1] - y_min\n",
    "        map[y][x] = [0.0, 0.0, 1.0]\n",
    "\n",
    "    for sensor in sensors:\n",
    "        x = sensor['x'] - x_min\n",
    "        y = sensor['y'] - y_min\n",
    "        map[y][x] = [1.0, 1.0, 0.0]\n",
    "\n",
    "    for map_y in range(h):\n",
    "        for map_x in range(w):\n",
    "            if sum(map[map_y][map_x]) == 0:\n",
    "                out_of_range = True\n",
    "                x = map_x + x_min\n",
    "                y = map_y + y_min\n",
    "                for sensor in sensors:\n",
    "                    if manhattan_distance((x, y), sensor['coordinates']) <= sensor['distance']:\n",
    "                        out_of_range = False\n",
    "                        break\n",
    "                \n",
    "                if not out_of_range:\n",
    "                    map[map_y][map_x] = [0.2, 0.2, 0.2]\n",
    "\n",
    "    fig = plt.figure(figsize=(20, 10))\n",
    "    plt.imshow(map, cmap=\"gray\", vmin=0, vmax=1)\n",
    "    plt.xticks(range(0, w), range(x_min, x_max+1))\n",
    "    plt.yticks(range(0, h), range(y_min, y_max+1))\n",
    "    plt.show()\n",
    "\n",
    "    if target_y is not None:\n",
    "        pos_in_range = np.count_nonzero(map[target_y,:,0] == 0.2)\n",
    "        print(f'{pos_in_range} positions in row {target_y+y_min} are in range of sensors. The beacon cannot be here!')\n",
    "\n",
    "    return map\n",
    "\n",
    "def manhattan_distance(p1, p2):\n",
    "    return sum(abs((np.array(p1)-np.array(p2))))\n",
    "\n",
    "def find_beacon(path, target_y=None):\n",
    "    sensor_data = read_sensor_data(path)\n",
    "    sensors, beacons = analyse_sensor_data(sensor_data)\n",
    "    map = draw_map(sensors, beacons, target_y)\n",
    "\n"
   ]
  },
  {
   "cell_type": "code",
   "execution_count": 186,
   "metadata": {},
   "outputs": [
    {
     "name": "stdout",
     "output_type": "stream",
     "text": [
      "x_min: -2\n",
      "x_max: 25\n",
      "y_min: 0\n",
      "y_max: 22\n",
      "width: 28\n",
      "height: 23\n"
     ]
    },
    {
     "data": {
      "image/png": "[encoded data removed]",
      "text/plain": [
       "<Figure size 1440x720 with 1 Axes>"
      ]
     },
     "metadata": {
      "needs_background": "light"
     },
     "output_type": "display_data"
    },
    {
     "name": "stdout",
     "output_type": "stream",
     "text": [
      "26 positions in row 10 are in range of sensors. The beacon cannot be here!\n",
      "x_min: -362535\n",
      "x_max: 3999326\n",
      "y_min: -182407\n",
      "y_max: 4176552\n",
      "width: 4361862\n",
      "height: 4358960\n"
     ]
    },
    {
     "ename": "MemoryError",
     "evalue": "Unable to allocate 415. TiB for an array with shape (4358960, 4361862, 3) and data type float64",
     "output_type": "error",
     "traceback": [
      "\u001b[1;31m---------------------------------------------------------------------------\u001b[0m",
      "\u001b[1;31mMemoryError\u001b[0m                               Traceback (most recent call last)",
      "\u001b[1;32mc:\\Users\\unter\\Desktop\\AdventOfCode2022\\December 15 [WIP]\\15.ipynb Cell 2\u001b[0m in \u001b[0;36m<cell line: 5>\u001b[1;34m()\u001b[0m\n\u001b[0;32m      <a href='vscode-notebook-cell:/c%3A/Users/unter/Desktop/AdventOfCode2022/December%2015%20%5BWIP%5D/15.ipynb#W1sZmlsZQ%3D%3D?line=1'>2</a>\u001b[0m test \u001b[39m=\u001b[39m \u001b[39m\"\u001b[39m\u001b[39m./test.txt\u001b[39m\u001b[39m\"\u001b[39m\n\u001b[0;32m      <a href='vscode-notebook-cell:/c%3A/Users/unter/Desktop/AdventOfCode2022/December%2015%20%5BWIP%5D/15.ipynb#W1sZmlsZQ%3D%3D?line=3'>4</a>\u001b[0m find_beacon(example, target_y\u001b[39m=\u001b[39m\u001b[39m10\u001b[39m)\n\u001b[1;32m----> <a href='vscode-notebook-cell:/c%3A/Users/unter/Desktop/AdventOfCode2022/December%2015%20%5BWIP%5D/15.ipynb#W1sZmlsZQ%3D%3D?line=4'>5</a>\u001b[0m find_beacon(test, target_y\u001b[39m=\u001b[39;49m\u001b[39m2000000\u001b[39;49m)\n",
      "\u001b[1;32mc:\\Users\\unter\\Desktop\\AdventOfCode2022\\December 15 [WIP]\\15.ipynb Cell 2\u001b[0m in \u001b[0;36mfind_beacon\u001b[1;34m(path, target_y)\u001b[0m\n\u001b[0;32m    <a href='vscode-notebook-cell:/c%3A/Users/unter/Desktop/AdventOfCode2022/December%2015%20%5BWIP%5D/15.ipynb#W1sZmlsZQ%3D%3D?line=122'>123</a>\u001b[0m sensor_data \u001b[39m=\u001b[39m read_sensor_data(path)\n\u001b[0;32m    <a href='vscode-notebook-cell:/c%3A/Users/unter/Desktop/AdventOfCode2022/December%2015%20%5BWIP%5D/15.ipynb#W1sZmlsZQ%3D%3D?line=123'>124</a>\u001b[0m sensors, beacons \u001b[39m=\u001b[39m analyse_sensor_data(sensor_data)\n\u001b[1;32m--> <a href='vscode-notebook-cell:/c%3A/Users/unter/Desktop/AdventOfCode2022/December%2015%20%5BWIP%5D/15.ipynb#W1sZmlsZQ%3D%3D?line=124'>125</a>\u001b[0m \u001b[39mmap\u001b[39m \u001b[39m=\u001b[39m draw_map(sensors, beacons, target_y)\n",
      "\u001b[1;32mc:\\Users\\unter\\Desktop\\AdventOfCode2022\\December 15 [WIP]\\15.ipynb Cell 2\u001b[0m in \u001b[0;36mdraw_map\u001b[1;34m(sensors, beacons, target_y)\u001b[0m\n\u001b[0;32m     <a href='vscode-notebook-cell:/c%3A/Users/unter/Desktop/AdventOfCode2022/December%2015%20%5BWIP%5D/15.ipynb#W1sZmlsZQ%3D%3D?line=74'>75</a>\u001b[0m \u001b[39mprint\u001b[39m(\u001b[39mf\u001b[39m\u001b[39m'\u001b[39m\u001b[39mwidth: \u001b[39m\u001b[39m{\u001b[39;00mw\u001b[39m}\u001b[39;00m\u001b[39m'\u001b[39m)\n\u001b[0;32m     <a href='vscode-notebook-cell:/c%3A/Users/unter/Desktop/AdventOfCode2022/December%2015%20%5BWIP%5D/15.ipynb#W1sZmlsZQ%3D%3D?line=75'>76</a>\u001b[0m \u001b[39mprint\u001b[39m(\u001b[39mf\u001b[39m\u001b[39m'\u001b[39m\u001b[39mheight: \u001b[39m\u001b[39m{\u001b[39;00mh\u001b[39m}\u001b[39;00m\u001b[39m'\u001b[39m)\n\u001b[1;32m---> <a href='vscode-notebook-cell:/c%3A/Users/unter/Desktop/AdventOfCode2022/December%2015%20%5BWIP%5D/15.ipynb#W1sZmlsZQ%3D%3D?line=77'>78</a>\u001b[0m \u001b[39mmap\u001b[39m \u001b[39m=\u001b[39m np\u001b[39m.\u001b[39;49mzeros((h, w, \u001b[39m3\u001b[39;49m))\n\u001b[0;32m     <a href='vscode-notebook-cell:/c%3A/Users/unter/Desktop/AdventOfCode2022/December%2015%20%5BWIP%5D/15.ipynb#W1sZmlsZQ%3D%3D?line=79'>80</a>\u001b[0m \u001b[39mif\u001b[39;00m target_y \u001b[39mis\u001b[39;00m \u001b[39mnot\u001b[39;00m \u001b[39mNone\u001b[39;00m:\n\u001b[0;32m     <a href='vscode-notebook-cell:/c%3A/Users/unter/Desktop/AdventOfCode2022/December%2015%20%5BWIP%5D/15.ipynb#W1sZmlsZQ%3D%3D?line=80'>81</a>\u001b[0m     target_y \u001b[39m-\u001b[39m\u001b[39m=\u001b[39m y_min\n",
      "\u001b[1;31mMemoryError\u001b[0m: Unable to allocate 415. TiB for an array with shape (4358960, 4361862, 3) and data type float64"
     ]
    }
   ],
   "source": [
    "example = \"./example.txt\"\n",
    "test = \"./test.txt\"\n",
    "\n",
    "find_beacon(example, target_y=10)\n",
    "find_beacon(test, target_y=2000000)"
   ]
  },
  {
   "cell_type": "code",
   "execution_count": null,
   "metadata": {},
   "outputs": [],
   "source": []
  }
 ],
 "metadata": {
  "kernelspec": {
   "display_name": "Python 3",
   "language": "python",
   "name": "python3"
  },
  "language_info": {
   "codemirror_mode": {
    "name": "ipython",
    "version": 3
   },
   "file_extension": ".py",
   "mimetype": "text/x-python",
   "name": "python",
   "nbconvert_exporter": "python",
   "pygments_lexer": "ipython3",
   "version": "3.10.5 (tags/v3.10.5:f377153, Jun  6 2022, 16:14:13) [MSC v.1929 64 bit (AMD64)]"
  },
  "orig_nbformat": 4,
  "vscode": {
   "interpreter": {
    "hash": "e722b59514372f1067055f4459c08f1716503ebc626df1df188326384d700b09"
   }
  }
 },
 "nbformat": 4,
 "nbformat_minor": 2
}

{
 "cells": [
  {
   "cell_type": "code",
   "execution_count": 136,
   "metadata": {},
   "outputs": [],
   "source": [
    "import matplotlib.pyplot as plt\n",
    "import numpy as np\n",
    "import math, time\n",
    "from IPython.display import clear_output\n",
    "\n",
    "def read_stoneformations(path):\n",
    "    with open(path, 'r') as f:\n",
    "        stones = [d.replace('\\n', '') for d in f.readlines()]\n",
    "    return stones\n",
    "\n",
    "def get_expanse(stone_lines):\n",
    "    min_x = None\n",
    "    max_x = None\n",
    "    min_y = None\n",
    "    max_y = None\n",
    "\n",
    "    for line in stone_lines:\n",
    "        for coordinate in line:\n",
    "            coordinate = [int(coordinate[0]), int(coordinate[1])]\n",
    "            if min_x is None or min_x > coordinate[0]:\n",
    "                min_x = coordinate[0]\n",
    "            if max_x is None or max_x < coordinate[0]:\n",
    "                max_x = coordinate[0]\n",
    "            if min_y is None or min_y > coordinate[1]:\n",
    "                min_y = coordinate[1]\n",
    "            if max_y is None or max_y < coordinate[1]:\n",
    "                max_y = coordinate[1]\n",
    "    \n",
    "    return [min_x, min_y, max_x, max_y]\n",
    "\n",
    "def draw_map(stones, with_ground):\n",
    "    stone_lines = [[[500, 0]]]\n",
    "    for formation in stones:\n",
    "        coordinates = [vertex.split(',') for vertex in formation.split(' -> ')]\n",
    "        stone_lines.append(coordinates)\n",
    "\n",
    "    l, t, r, b = get_expanse(stone_lines)\n",
    "    h = b - t + 1\n",
    "    w = r - l + 1\n",
    "\n",
    "    p0 = [500-l, 0-t]\n",
    "\n",
    "    if with_ground:\n",
    "        map = np.zeros((h+2, w))\n",
    "        map[-1,:] = 0.5\n",
    "    else:\n",
    "        map = np.zeros((h, w))\n",
    "\n",
    "    ### drawing stone lines ###\n",
    "    for formation in stone_lines:\n",
    "        p_start = [int(formation[0][0])-l, int(formation[0][1])-t]\n",
    "        for i in range(1, len(formation)):\n",
    "            p_end = [int(formation[i][0])-l, int(formation[i][1])-t]\n",
    "            map = draw_stone_line(map, p_start, p_end)\n",
    "            p_start = p_end\n",
    "\n",
    "    ### drawing sand insertion point ###\n",
    "    map[p0[1]][p0[0]] = 1.0 \n",
    "\n",
    "    return map, p0\n",
    "\n",
    "def draw_stone_line(map, p1, p2):\n",
    "    stone_value = 0.5\n",
    "\n",
    "    ### horizontal line ###\n",
    "    if p1[1] == p2[1]:\n",
    "        if p2[0] < p1[0]:\n",
    "            p_temp = p1.copy()\n",
    "            p1 = p2.copy()\n",
    "            p2 = p_temp.copy()\n",
    "        for i in range(p1[0], p2[0]+1):\n",
    "            map[p1[1]][i] = stone_value\n",
    "\n",
    "    ### vertical line ###\n",
    "    elif p1[0] == p2[0]:\n",
    "        if p2[1] < p1[1]:\n",
    "            p_temp = p1.copy()\n",
    "            p1 = p2.copy()\n",
    "            p2 = p_temp.copy()\n",
    "        for i in range(p1[1], p2[1]+1):\n",
    "            map[i][p1[0]] = stone_value\n",
    "\n",
    "    return map\n",
    "\n",
    "def simulate_sand(map, p0, display_steps, with_ground):\n",
    "    step = 1\n",
    "    sand = 0.7\n",
    "    sand_x = None\n",
    "    sand_y = None\n",
    "\n",
    "\n",
    "    sand_in_map = True\n",
    "\n",
    "    while sand_in_map and step < 1000:\n",
    "        if sand_x is None:\n",
    "            sand_x = p0[0]\n",
    "            sand_y = p0[1]\n",
    "            map[sand_y][sand_x] = sand\n",
    "        else:\n",
    "            # sand dripping over bottom of map\n",
    "            if sand_y+1 > map.shape[0]-1:\n",
    "                map[sand_y][sand_x] = 0.0\n",
    "                sand_x = None\n",
    "                sand_y = None\n",
    "                sand_in_map = False\n",
    "                break\n",
    "            # sand falls down\n",
    "            elif map[sand_y+1][sand_x] == 0.0:\n",
    "                map[sand_y][sand_x] = 0.0\n",
    "                map[sand_y+1][sand_x] = sand\n",
    "                sand_y += 1\n",
    "            # sand dripping over left of map\n",
    "            elif sand_x-1 < 0:\n",
    "                if with_ground:\n",
    "                    newcol = np.zeros((1,map.shape[0]))\n",
    "                    newcol[:,-1] = 0.5\n",
    "                    print(map.shape)\n",
    "                    print(newcol.shape)\n",
    "                    map = np.insert(map, 0, newcol, axis=1)\n",
    "                    print(map.shape)\n",
    "                    sand_x += 1\n",
    "                    p0[0] += 1\n",
    "                else:\n",
    "                    map[sand_y][sand_x] = 0.0\n",
    "                    sand_x = None\n",
    "                    sand_y = None\n",
    "                    sand_in_map = False\n",
    "                    break\n",
    "            # sand falling bottom left\n",
    "            elif map[sand_y+1][sand_x-1] == 0.0:\n",
    "                map[sand_y][sand_x] = 0.0\n",
    "                map[sand_y+1][sand_x-1] = sand\n",
    "                sand_y += 1\n",
    "                sand_x -= 1\n",
    "            # sand dripping over right of map\n",
    "            elif sand_x+1 > map.shape[1]-1:\n",
    "                if with_ground:\n",
    "                    newcol = np.zeros((1, map.shape[0]))\n",
    "                    newcol[:,-1] = 0.5\n",
    "                    map = np.insert(map, map.shape[1], newcol, axis=1)\n",
    "                else:\n",
    "                    map[sand_y][sand_x] = 0.0\n",
    "                    sand_x = None\n",
    "                    sand_y = None\n",
    "                    sand_in_map = False\n",
    "                    break\n",
    "            # sand falling bottom right\n",
    "            elif map[sand_y+1][sand_x+1] == 0.0:\n",
    "                map[sand_y][sand_x] = 0.0\n",
    "                map[sand_y+1][sand_x+1] = sand\n",
    "                sand_y += 1\n",
    "                sand_x += 1\n",
    "            # sand cannot move anymore\n",
    "            else:\n",
    "                if sand_x == p0[0] and sand_y == p0[1]:\n",
    "                    break\n",
    "                sand_x = None\n",
    "                sand_y = None\n",
    "\n",
    "        if step > 0 and display_steps > 0 and step%display_steps == 0:\n",
    "            display(map, step)\n",
    "        step += 1\n",
    "\n",
    "    display(map, step)\n",
    "\n",
    "    return map\n",
    "\n",
    "def display(map, step):\n",
    "    if step != 0:\n",
    "        time.sleep(0.01)\n",
    "        clear_output(wait=True)\n",
    "    fig = plt.figure(figsize=(min(15,map.shape[1]), min(15,map.shape[0])))\n",
    "    plt.imshow(map, vmin=0, vmax=1, cmap=\"gray\")\n",
    "    plt.title(f'Step {step}')\n",
    "    plt.show()\n",
    "\n",
    "def simulate(path, display_steps=0, with_ground=False):\n",
    "    stones = read_stoneformations(path)\n",
    "    map, p0 = draw_map(stones, with_ground)\n",
    "    display(map, 0)\n",
    "    map = simulate_sand(map, p0, display_steps, with_ground)\n",
    "    if with_ground:\n",
    "        print(f'{np.count_nonzero(map == 0.7)} amounts of sand came to rest before the sand entrance was covered.')\n",
    "    else:\n",
    "        print(f'{np.count_nonzero(map == 0.7)} amounts of sand came to rest before the sand started running off the map.')"
   ]
  },
  {
   "cell_type": "code",
   "execution_count": 137,
   "metadata": {},
   "outputs": [
    {
     "data": {
      "image/png": "[encoded data removed]",
      "text/plain": [
       "<Figure size 720x720 with 1 Axes>"
      ]
     },
     "metadata": {
      "needs_background": "light"
     },
     "output_type": "display_data"
    },
    {
     "ename": "ZeroDivisionError",
     "evalue": "integer division or modulo by zero",
     "output_type": "error",
     "traceback": [
      "\u001b[1;31m---------------------------------------------------------------------------\u001b[0m",
      "\u001b[1;31mZeroDivisionError\u001b[0m                         Traceback (most recent call last)",
      "\u001b[1;32mc:\\Users\\unter\\Desktop\\AdventOfCode2022\\December 14 [WIP]\\14.ipynb Cell 2\u001b[0m in \u001b[0;36m<cell line: 4>\u001b[1;34m()\u001b[0m\n\u001b[0;32m      <a href='vscode-notebook-cell:/c%3A/Users/unter/Desktop/AdventOfCode2022/December%2014%20%5BWIP%5D/14.ipynb#W1sZmlsZQ%3D%3D?line=0'>1</a>\u001b[0m example \u001b[39m=\u001b[39m \u001b[39m\"\u001b[39m\u001b[39m./example.txt\u001b[39m\u001b[39m\"\u001b[39m\n\u001b[0;32m      <a href='vscode-notebook-cell:/c%3A/Users/unter/Desktop/AdventOfCode2022/December%2014%20%5BWIP%5D/14.ipynb#W1sZmlsZQ%3D%3D?line=1'>2</a>\u001b[0m test \u001b[39m=\u001b[39m \u001b[39m\"\u001b[39m\u001b[39m./test.txt\u001b[39m\u001b[39m\"\u001b[39m\n\u001b[1;32m----> <a href='vscode-notebook-cell:/c%3A/Users/unter/Desktop/AdventOfCode2022/December%2014%20%5BWIP%5D/14.ipynb#W1sZmlsZQ%3D%3D?line=3'>4</a>\u001b[0m simulate(example)\n",
      "\u001b[1;32mc:\\Users\\unter\\Desktop\\AdventOfCode2022\\December 14 [WIP]\\14.ipynb Cell 2\u001b[0m in \u001b[0;36msimulate\u001b[1;34m(path, display_steps, with_ground)\u001b[0m\n\u001b[0;32m    <a href='vscode-notebook-cell:/c%3A/Users/unter/Desktop/AdventOfCode2022/December%2014%20%5BWIP%5D/14.ipynb#W1sZmlsZQ%3D%3D?line=178'>179</a>\u001b[0m \u001b[39mmap\u001b[39m, p0 \u001b[39m=\u001b[39m draw_map(stones, with_ground)\n\u001b[0;32m    <a href='vscode-notebook-cell:/c%3A/Users/unter/Desktop/AdventOfCode2022/December%2014%20%5BWIP%5D/14.ipynb#W1sZmlsZQ%3D%3D?line=179'>180</a>\u001b[0m display(\u001b[39mmap\u001b[39m, \u001b[39m0\u001b[39m)\n\u001b[1;32m--> <a href='vscode-notebook-cell:/c%3A/Users/unter/Desktop/AdventOfCode2022/December%2014%20%5BWIP%5D/14.ipynb#W1sZmlsZQ%3D%3D?line=180'>181</a>\u001b[0m \u001b[39mmap\u001b[39m \u001b[39m=\u001b[39m simulate_sand(\u001b[39mmap\u001b[39;49m, p0, display_steps, with_ground)\n\u001b[0;32m    <a href='vscode-notebook-cell:/c%3A/Users/unter/Desktop/AdventOfCode2022/December%2014%20%5BWIP%5D/14.ipynb#W1sZmlsZQ%3D%3D?line=181'>182</a>\u001b[0m \u001b[39mif\u001b[39;00m with_ground:\n\u001b[0;32m    <a href='vscode-notebook-cell:/c%3A/Users/unter/Desktop/AdventOfCode2022/December%2014%20%5BWIP%5D/14.ipynb#W1sZmlsZQ%3D%3D?line=182'>183</a>\u001b[0m     \u001b[39mprint\u001b[39m(\u001b[39mf\u001b[39m\u001b[39m'\u001b[39m\u001b[39m{\u001b[39;00mnp\u001b[39m.\u001b[39mcount_nonzero(\u001b[39mmap\u001b[39m \u001b[39m==\u001b[39m \u001b[39m0.7\u001b[39m)\u001b[39m}\u001b[39;00m\u001b[39m amounts of sand came to rest before the sand entrance was covered.\u001b[39m\u001b[39m'\u001b[39m)\n",
      "\u001b[1;32mc:\\Users\\unter\\Desktop\\AdventOfCode2022\\December 14 [WIP]\\14.ipynb Cell 2\u001b[0m in \u001b[0;36msimulate_sand\u001b[1;34m(map, p0, display_steps, with_ground)\u001b[0m\n\u001b[0;32m    <a href='vscode-notebook-cell:/c%3A/Users/unter/Desktop/AdventOfCode2022/December%2014%20%5BWIP%5D/14.ipynb#W1sZmlsZQ%3D%3D?line=156'>157</a>\u001b[0m         sand_x \u001b[39m=\u001b[39m \u001b[39mNone\u001b[39;00m\n\u001b[0;32m    <a href='vscode-notebook-cell:/c%3A/Users/unter/Desktop/AdventOfCode2022/December%2014%20%5BWIP%5D/14.ipynb#W1sZmlsZQ%3D%3D?line=157'>158</a>\u001b[0m         sand_y \u001b[39m=\u001b[39m \u001b[39mNone\u001b[39;00m\n\u001b[1;32m--> <a href='vscode-notebook-cell:/c%3A/Users/unter/Desktop/AdventOfCode2022/December%2014%20%5BWIP%5D/14.ipynb#W1sZmlsZQ%3D%3D?line=159'>160</a>\u001b[0m \u001b[39mif\u001b[39;00m step \u001b[39m>\u001b[39m \u001b[39m0\u001b[39m \u001b[39mand\u001b[39;00m step\u001b[39m%\u001b[39;49mdisplay_steps \u001b[39m==\u001b[39m \u001b[39m0\u001b[39m:\n\u001b[0;32m    <a href='vscode-notebook-cell:/c%3A/Users/unter/Desktop/AdventOfCode2022/December%2014%20%5BWIP%5D/14.ipynb#W1sZmlsZQ%3D%3D?line=160'>161</a>\u001b[0m     display(\u001b[39mmap\u001b[39m, step)\n\u001b[0;32m    <a href='vscode-notebook-cell:/c%3A/Users/unter/Desktop/AdventOfCode2022/December%2014%20%5BWIP%5D/14.ipynb#W1sZmlsZQ%3D%3D?line=161'>162</a>\u001b[0m step \u001b[39m+\u001b[39m\u001b[39m=\u001b[39m \u001b[39m1\u001b[39m\n",
      "\u001b[1;31mZeroDivisionError\u001b[0m: integer division or modulo by zero"
     ]
    }
   ],
   "source": [
    "example = \"./example.txt\"\n",
    "test = \"./test.txt\"\n",
    "\n",
    "simulate(example)"
   ]
  },
  {
   "cell_type": "code",
   "execution_count": 32,
   "metadata": {},
   "outputs": [
    {
     "data": {
      "image/png": "[encoded data removed]",
      "text/plain": [
       "<Figure size 1080x1080 with 1 Axes>"
      ]
     },
     "metadata": {
      "needs_background": "light"
     },
     "output_type": "display_data"
    }
   ],
   "source": [
    "simulate(test, display_steps=300)"
   ]
  },
  {
   "cell_type": "code",
   "execution_count": 135,
   "metadata": {},
   "outputs": [
    {
     "data": {
      "image/png": "[encoded data removed]",
      "text/plain": [
       "<Figure size 1080x864 with 1 Axes>"
      ]
     },
     "metadata": {
      "needs_background": "light"
     },
     "output_type": "display_data"
    }
   ],
   "source": [
    "simulate(example, display_steps=30, with_ground=True)"
   ]
  },
  {
   "cell_type": "code",
   "execution_count": null,
   "metadata": {},
   "outputs": [],
   "source": []
  }
 ],
 "metadata": {
  "kernelspec": {
   "display_name": "Python 3",
   "language": "python",
   "name": "python3"
  },
  "language_info": {
   "codemirror_mode": {
    "name": "ipython",
    "version": 3
   },
   "file_extension": ".py",
   "mimetype": "text/x-python",
   "name": "python",
   "nbconvert_exporter": "python",
   "pygments_lexer": "ipython3",
   "version": "3.10.5"
  },
  "orig_nbformat": 4,
  "vscode": {
   "interpreter": {
    "hash": "e722b59514372f1067055f4459c08f1716503ebc626df1df188326384d700b09"
   }
  }
 },
 "nbformat": 4,
 "nbformat_minor": 2
}

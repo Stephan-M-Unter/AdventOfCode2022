{
 "cells": [
  {
   "cell_type": "code",
   "execution_count": 15,
   "metadata": {},
   "outputs": [],
   "source": [
    "def read_cheat_sheet(path_to_cheat_sheet):\n",
    "    with open(path_to_cheat_sheet, 'r') as f:\n",
    "        cheats = [line.replace('\\n', '') for line in f.readlines()]\n",
    "    return cheats\n",
    "\n",
    "def determine_score(path_to_cheat_sheet):\n",
    "    score = 0\n",
    "    cheat_sheet = read_cheat_sheet(path_to_cheat_sheet)\n",
    "\n",
    "    scores = {\n",
    "        'A X': 1+3,\n",
    "        'B Y': 2+3,\n",
    "        'C Z': 3+3,\n",
    "        'A Y': 2+6,\n",
    "        'B Z': 3+6,\n",
    "        'C X': 1+6,\n",
    "        'A Z': 3+0,\n",
    "        'B X': 1+0,\n",
    "        'C Y': 2+0,\n",
    "    }\n",
    "\n",
    "    for round in cheat_sheet:\n",
    "        score += scores[round]\n",
    "\n",
    "    return score\n",
    "\n",
    "def determine_real_score(path_to_cheat_sheet):\n",
    "    score = 0\n",
    "    cheat_sheet = read_cheat_sheet(path_to_cheat_sheet)\n",
    "\n",
    "    scores = {\n",
    "        'A X': 3+0,\n",
    "        'B X': 1+0,\n",
    "        'C X': 2+0,\n",
    "        'A Y': 1+3,\n",
    "        'B Y': 2+3,\n",
    "        'C Y': 3+3,\n",
    "        'A Z': 2+6,\n",
    "        'B Z': 3+6,\n",
    "        'C Z': 1+6,\n",
    "    }\n",
    "\n",
    "    for round in cheat_sheet:\n",
    "        score += scores[round]\n",
    "    return score"
   ]
  },
  {
   "cell_type": "code",
   "execution_count": 12,
   "metadata": {},
   "outputs": [],
   "source": [
    "path_to_example_cheats = './example_input.txt'\n",
    "path_to_test_cheats = './test_input.txt'"
   ]
  },
  {
   "cell_type": "code",
   "execution_count": 14,
   "metadata": {},
   "outputs": [
    {
     "name": "stdout",
     "output_type": "stream",
     "text": [
      "##########################################################################################\n",
      "  *     *        *        *  *        *     *        *   *   *      *      *    *    *    \n",
      "In the _example case_ you would score 15 points.\n",
      "In the _test case_ you would score 12740 points.\n",
      "  *   *     *       *        *        *     *    *      *   *      *       *    *    *    \n",
      "##########################################################################################\n"
     ]
    }
   ],
   "source": [
    "score_examples = determine_score(path_to_example_cheats)\n",
    "score_test = determine_score(path_to_test_cheats)\n",
    "\n",
    "print('##########################################################################################')\n",
    "print('  *     *        *        *  *        *     *        *   *   *      *      *    *    *    ')\n",
    "print(f'In the _example case_ you would score {score_examples} points.')\n",
    "print(f'In the _test case_ you would score {score_test} points.')\n",
    "print('  *   *     *       *        *        *     *    *      *   *      *       *    *    *    ')\n",
    "print('##########################################################################################')"
   ]
  },
  {
   "cell_type": "code",
   "execution_count": null,
   "metadata": {},
   "outputs": [],
   "source": [
    "real_score_examples = determine_real_score(path_to_example_cheats)\n",
    "real_score_test = determine_real_score(path_to_test_cheats)\n",
    "\n",
    "print('##########################################################################################')\n",
    "print('  *     *        *        *  *        *     *        *   *   *      *      *    *    *    ')\n",
    "print(f'In the _example case_ you would score {real_score_examples} points (when doing the real score).')\n",
    "print(f'In the _test case_ you would score {real_score_test} points (when doing the real score).')\n",
    "print('  *   *     *       *        *        *     *    *      *   *      *       *    *    *    ')\n",
    "print('##########################################################################################')"
   ]
  }
 ],
 "metadata": {
  "kernelspec": {
   "display_name": "Python 3.10.5 64-bit",
   "language": "python",
   "name": "python3"
  },
  "language_info": {
   "codemirror_mode": {
    "name": "ipython",
    "version": 3
   },
   "file_extension": ".py",
   "mimetype": "text/x-python",
   "name": "python",
   "nbconvert_exporter": "python",
   "pygments_lexer": "ipython3",
   "version": "3.10.5"
  },
  "orig_nbformat": 4,
  "vscode": {
   "interpreter": {
    "hash": "e722b59514372f1067055f4459c08f1716503ebc626df1df188326384d700b09"
   }
  }
 },
 "nbformat": 4,
 "nbformat_minor": 2
}

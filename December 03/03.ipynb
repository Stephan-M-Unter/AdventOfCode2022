{
 "cells": [
  {
   "cell_type": "code",
   "execution_count": 34,
   "metadata": {},
   "outputs": [],
   "source": [
    "def check_rucksacks(path):\n",
    "    with open(path, 'r') as f:\n",
    "        rucksacks = [item.replace('\\n', '') for item in f.readlines()]\n",
    "    return rucksacks\n",
    "\n",
    "def find_mispackeds(path):\n",
    "    rucksacks = check_rucksacks(path)\n",
    "    priorities = '#abcdefghijklmnopqrstuvwxyzABCDEFGHIJKLMNOPQRSTUVWXYZ'\n",
    "    scores = 0\n",
    "    for rucksack_content in rucksacks:\n",
    "        left, right = rucksack_content[:len(rucksack_content)//2], rucksack_content[len(rucksack_content)//2:]\n",
    "        wrongs = list(set([item for item in left if item in right]))\n",
    "\n",
    "        scores += priorities.index(wrongs[0])\n",
    "    \n",
    "    return scores\n",
    "\n",
    "def find_batches(path):\n",
    "    rucksacks = check_rucksacks(path)\n",
    "    priorities = '#abcdefghijklmnopqrstuvwxyzABCDEFGHIJKLMNOPQRSTUVWXYZ'\n",
    "    scores = 0\n",
    "\n",
    "    for i in range(0, len(rucksacks), 3):\n",
    "        rucksack1 = rucksacks[i]\n",
    "        rucksack2 = rucksacks[i+1]\n",
    "        rucksack3 = rucksacks[i+2]\n",
    "\n",
    "        shared_items = list(set([item for item in rucksack1 if item in rucksack2 and item in rucksack3]))\n",
    "\n",
    "        scores += priorities.index(shared_items[0])\n",
    "\n",
    "    return scores\n"
   ]
  },
  {
   "cell_type": "code",
   "execution_count": 35,
   "metadata": {},
   "outputs": [
    {
     "name": "stdout",
     "output_type": "stream",
     "text": [
      "##########################################################################################\n",
      "  *     *        *        *  *        *     *        *   *   *      *      *    *    *    \n",
      "In the _example case_ the misplaced items have a score of 157.\n",
      "In the _test case_ the misplaced items have a score of 7742.\n",
      "  *   *     *       *        *        *     *    *      *   *      *       *    *    *    \n",
      "##########################################################################################\n"
     ]
    }
   ],
   "source": [
    "example = \"./example_input.txt\"\n",
    "test = \"./test_input.txt\"\n",
    "\n",
    "example_mispacked = find_mispackeds(example)\n",
    "test_mispacked = find_mispackeds(test)\n",
    "\n",
    "print('##########################################################################################')\n",
    "print('  *     *        *        *  *        *     *        *   *   *      *      *    *    *    ')\n",
    "print(f'In the _example case_ the misplaced items have a score of {example_mispacked}.')\n",
    "print(f'In the _test case_ the misplaced items have a score of {test_mispacked}.')\n",
    "print('  *   *     *       *        *        *     *    *      *   *      *       *    *    *    ')\n",
    "print('##########################################################################################')"
   ]
  },
  {
   "cell_type": "code",
   "execution_count": 36,
   "metadata": {},
   "outputs": [
    {
     "name": "stdout",
     "output_type": "stream",
     "text": [
      "##########################################################################################\n",
      "  *     *        *        *  *        *     *        *   *   *      *      *    *    *    \n",
      "In the _example case_ the elves' badges score 70.\n",
      "In the _test case_ the elves' badges score 2276.\n",
      "  *   *     *       *        *        *     *    *      *   *      *       *    *    *    \n",
      "##########################################################################################\n"
     ]
    }
   ],
   "source": [
    "example_badges = find_batches(example)\n",
    "test_badges = find_batches(test)\n",
    "\n",
    "print('##########################################################################################')\n",
    "print('  *     *        *        *  *        *     *        *   *   *      *      *    *    *    ')\n",
    "print(f'In the _example case_ the elves\\' badges score {example_badges}.')\n",
    "print(f'In the _test case_ the elves\\' badges score {test_badges}.')\n",
    "print('  *   *     *       *        *        *     *    *      *   *      *       *    *    *    ')\n",
    "print('##########################################################################################')"
   ]
  }
 ],
 "metadata": {
  "kernelspec": {
   "display_name": "Python 3.10.5 64-bit",
   "language": "python",
   "name": "python3"
  },
  "language_info": {
   "codemirror_mode": {
    "name": "ipython",
    "version": 3
   },
   "file_extension": ".py",
   "mimetype": "text/x-python",
   "name": "python",
   "nbconvert_exporter": "python",
   "pygments_lexer": "ipython3",
   "version": "3.10.5"
  },
  "orig_nbformat": 4,
  "vscode": {
   "interpreter": {
    "hash": "e722b59514372f1067055f4459c08f1716503ebc626df1df188326384d700b09"
   }
  }
 },
 "nbformat": 4,
 "nbformat_minor": 2
}

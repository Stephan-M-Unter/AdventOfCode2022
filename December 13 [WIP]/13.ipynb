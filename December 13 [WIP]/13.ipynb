{
 "cells": [
  {
   "cell_type": "code",
   "execution_count": 198,
   "metadata": {},
   "outputs": [],
   "source": [
    "import json\n",
    "\n",
    "def read_pairs(path):\n",
    "    with open(path, 'r') as f:\n",
    "        pairs_temp = [d.replace('\\n', '') for d in f.readlines()]\n",
    "        pairs = []\n",
    "        for i in range(0, len(pairs_temp), 3):\n",
    "            left = json.loads(pairs_temp[i])\n",
    "            right = json.loads(pairs_temp[i+1])\n",
    "            pairs.append((left, right))\n",
    "    return pairs\n",
    "\n",
    "def read_packages(path):\n",
    "    with open(path, 'r') as f:\n",
    "        packages = [json.loads(d.replace('\\n', '')) for d in f.readlines() if d != '\\n']\n",
    "    return packages\n",
    "\n",
    "def compare(pair, verbose):\n",
    "    left = pair[0]\n",
    "    right = pair[1]\n",
    "\n",
    "    ### Integer vs Integer\n",
    "    if type(left) == int and type(right) == int:\n",
    "        if verbose:\n",
    "            print(f'Integer ({left}) vs Integer ({right}).')\n",
    "        if left < right:\n",
    "            return 1\n",
    "        elif left == right:\n",
    "            return 2\n",
    "        elif right < left:\n",
    "            if verbose:\n",
    "                print(f'# ERROR - Left ({left}) larger than Right ({right})! #')\n",
    "            return 0\n",
    "\n",
    "    ### List vs List\n",
    "    elif type(left) == list and type(right) == list:\n",
    "        if verbose:\n",
    "            print(f'List ({left}) vs List ({right}).')\n",
    "        for index in range(len(left)):\n",
    "            if len(right) < index+1:\n",
    "                if verbose:\n",
    "                    print('# ERROR - Right list ran out of elements. #')\n",
    "                return 0\n",
    "\n",
    "            subleft = left[index]\n",
    "            subright = right[index]\n",
    "            correct_subitem = compare((subleft, subright), verbose)\n",
    "\n",
    "            if correct_subitem == 2:\n",
    "                continue\n",
    "            else:\n",
    "                return correct_subitem\n",
    "\n",
    "        if len(left) == len(right):\n",
    "            return 2\n",
    "        else:\n",
    "            return 1\n",
    "\n",
    "    ### List vs Integer\n",
    "    else:\n",
    "        if verbose:\n",
    "            print(f'List vs Integer ({left} and {right}).')\n",
    "        if type(left) == int:\n",
    "            if verbose:\n",
    "                print(f'Changing Left: {left} -> {[left]}.')\n",
    "            left = [left]\n",
    "        if type(right) == int:\n",
    "            if verbose:\n",
    "                print(f'Changing Right: {right} -> {[right]}.')\n",
    "            right = [right]\n",
    "\n",
    "        return compare((left, right), verbose)      \n",
    "    return 2\n",
    "\n",
    "def find_right_pairs(path, verbose=False):\n",
    "    pairs = read_pairs(path)\n",
    "    correct_indices = []\n",
    "\n",
    "    for index, pair in enumerate(pairs):\n",
    "        correct = compare(pair, verbose)\n",
    "        if correct:\n",
    "            if verbose:\n",
    "                print(f'\\t=> Packages are correct! Adding index {index+1}.')\n",
    "            correct_indices.append(index+1)\n",
    "        else:\n",
    "            if verbose:\n",
    "                print(f'\\t=> Packages are incorrect!')\n",
    "        if verbose:\n",
    "            print()\n",
    "\n",
    "\n",
    "    print('Indices of correct packages:', correct_indices)\n",
    "    print('Sum of Indices:', sum(correct_indices))\n",
    "\n",
    "def sort_packages(path, verbose=False):\n",
    "    packages = read_packages(path)\n",
    "    packages.append([[2]])\n",
    "    packages.append([[6]])\n",
    "    print(packages)"
   ]
  },
  {
   "cell_type": "code",
   "execution_count": 199,
   "metadata": {},
   "outputs": [
    {
     "name": "stdout",
     "output_type": "stream",
     "text": [
      "Indices of correct packages: [1, 2, 4, 6]\n",
      "Sum of Indices: 13\n",
      "Indices of correct packages: [1, 3, 5, 7, 11, 14, 15, 16, 20, 22, 24, 26, 28, 30, 31, 35, 37, 40, 41, 43, 44, 45, 47, 48, 51, 52, 54, 55, 59, 63, 64, 66, 67, 68, 69, 71, 76, 77, 79, 81, 85, 86, 87, 88, 90, 93, 94, 95, 96, 100, 105, 107, 108, 109, 110, 115, 120, 121, 122, 123, 124, 126, 130, 131, 132, 135, 139, 140, 141, 142, 143, 144, 146, 147, 149]\n",
      "Sum of Indices: 5808\n"
     ]
    }
   ],
   "source": [
    "example = \"./example.txt\"\n",
    "test = \"./test.txt\"\n",
    "\n",
    "find_right_pairs(example, verbose=False)\n",
    "find_right_pairs(test, verbose=False)"
   ]
  },
  {
   "cell_type": "code",
   "execution_count": 200,
   "metadata": {},
   "outputs": [
    {
     "name": "stdout",
     "output_type": "stream",
     "text": [
      "[[1, 1, 3, 1, 1], [1, 1, 5, 1, 1], [[1], [2, 3, 4]], [[1], 4], [9], [[8, 7, 6]], [[4, 4], 4, 4], [[4, 4], 4, 4, 4], [7, 7, 7, 7], [7, 7, 7], [], [3], [[[]]], [[]], [1, [2, [3, [4, [5, 6, 7]]]], 8, 9], [1, [2, [3, [4, [5, 6, 0]]]], 8, 9], [[2]], [[6]]]\n"
     ]
    }
   ],
   "source": [
    "sort_packages(example, verbose=True)"
   ]
  }
 ],
 "metadata": {
  "kernelspec": {
   "display_name": "Python 3",
   "language": "python",
   "name": "python3"
  },
  "language_info": {
   "codemirror_mode": {
    "name": "ipython",
    "version": 3
   },
   "file_extension": ".py",
   "mimetype": "text/x-python",
   "name": "python",
   "nbconvert_exporter": "python",
   "pygments_lexer": "ipython3",
   "version": "3.10.5 (tags/v3.10.5:f377153, Jun  6 2022, 16:14:13) [MSC v.1929 64 bit (AMD64)]"
  },
  "orig_nbformat": 4,
  "vscode": {
   "interpreter": {
    "hash": "e722b59514372f1067055f4459c08f1716503ebc626df1df188326384d700b09"
   }
  }
 },
 "nbformat": 4,
 "nbformat_minor": 2
}

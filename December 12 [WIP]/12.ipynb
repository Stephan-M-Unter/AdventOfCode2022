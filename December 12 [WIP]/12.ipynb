{
 "cells": [
  {
   "cell_type": "code",
   "execution_count": 30,
   "metadata": {},
   "outputs": [],
   "source": [
    "from pprint import pprint\n",
    "\n",
    "def read_map(path):\n",
    "    with open(path, 'r') as f:\n",
    "        map = [list(d.replace('\\n', '')) for d in f.readlines()]\n",
    "    return map\n",
    "\n",
    "def convert_map_to_numbers(map):\n",
    "    height_scores = 'SabcdefghijklmnopqrstuvwxyzE'\n",
    "\n",
    "    for i in range(len(map)):\n",
    "        for j in range(len(map[0])):\n",
    "            if map[i][j] in height_scores:\n",
    "                map[i][j] = height_scores.index(map[i][j])\n",
    "    \n",
    "    return map\n",
    "\n",
    "def find_start_end(map):\n",
    "    start = None\n",
    "    end = None\n",
    "\n",
    "    for i in range(len(map)):\n",
    "        for j in range(len(map[0])):\n",
    "            if map[i][j] == 0:\n",
    "                start = (i, j)\n",
    "            elif map[i][j] == 27:\n",
    "                end = (i, j)\n",
    "            if start is not None and end is not None:\n",
    "                return (start, end)\n",
    "\n",
    "def search_path(map, start, end, verbose):\n",
    "    step_count = 0\n",
    "    current_x = end[1]\n",
    "    current_y = end[0]\n",
    "    target_x = start[1]\n",
    "    target_y = start[0]\n",
    "    current_height = 26\n",
    "\n",
    "    if verbose:\n",
    "        print(f'Target Position: ({target_x}, {target_y})')\n",
    "\n",
    "    while (current_x != target_x) or (current_y != target_y):\n",
    "        if verbose:\n",
    "            print(f'Checking Position: ({current_x}, {current_y})')\n",
    "        # UP\n",
    "        if current_y > 0:\n",
    "            up = map[current_y-1][current_x]\n",
    "            if up == current_height or up == current_height-1:\n",
    "                map[current_y-1][current_x] += 1\n",
    "                current_height = up\n",
    "                current_y = current_y-1\n",
    "                step_count += 1\n",
    "                if verbose:\n",
    "                    print(f'\\tNew Position: ({current_x}, {current_y})')\n",
    "                continue\n",
    "\n",
    "        # RIGHT\n",
    "        if current_x < len(map[0])-1:\n",
    "            right = map[current_y][current_x+1]\n",
    "            if right == current_height or right == current_height-1:\n",
    "                map[current_y][current_x+1] += 1\n",
    "                current_height = right\n",
    "                current_x = current_x+1\n",
    "                step_count += 1\n",
    "                if verbose:\n",
    "                    print(f'\\tNew Position: ({current_x}, {current_y})')\n",
    "                continue\n",
    "\n",
    "        # DOWN\n",
    "        if current_y < len(map)-1:\n",
    "            down = map[current_y+1][current_x]\n",
    "            if down == current_height or down == current_height-1:\n",
    "                map[current_y+1][current_x] += 1\n",
    "                current_height = down\n",
    "                current_y = current_y+1\n",
    "                step_count += 1\n",
    "                if verbose:\n",
    "                    print(f'\\tNew Position: ({current_x}, {current_y})')\n",
    "                continue\n",
    "\n",
    "        # LEFT\n",
    "        if current_x > 0:\n",
    "            left = map[current_y][current_x-1]\n",
    "            if left == current_height or left == current_height-1:\n",
    "                map[current_y][current_x-1] += 1\n",
    "                current_height = left\n",
    "                current_x = current_x-1\n",
    "                step_count += 1\n",
    "                if verbose:\n",
    "                    print(f'\\tNew Position: ({current_x}, {current_y})')\n",
    "                continue\n",
    "\n",
    "        print('ERROR - could not find a proper path!')\n",
    "        raise ValueError\n",
    "        \n",
    "    return step_count\n",
    "\n",
    "\n",
    "def find_path(path, verbose=False):\n",
    "    map = read_map(path)\n",
    "    map = convert_map_to_numbers(map)\n",
    "    start, end = find_start_end(map)\n",
    "    step_count = search_path(map, start, end, verbose)\n",
    "    if verbose:\n",
    "        pprint(map)\n",
    "        print('start:', start)\n",
    "        print('end:', end)\n",
    "    print('step_count:', step_count)"
   ]
  },
  {
   "cell_type": "code",
   "execution_count": 32,
   "metadata": {},
   "outputs": [
    {
     "name": "stdout",
     "output_type": "stream",
     "text": [
      "step_count: 31\n",
      "ERROR - could not find a proper path!\n"
     ]
    },
    {
     "ename": "ValueError",
     "evalue": "",
     "output_type": "error",
     "traceback": [
      "\u001b[1;31m---------------------------------------------------------------------------\u001b[0m",
      "\u001b[1;31mValueError\u001b[0m                                Traceback (most recent call last)",
      "\u001b[1;32mc:\\Users\\unter\\Desktop\\AdventOfCode2022\\December 12\\12.ipynb Cell 2\u001b[0m in \u001b[0;36m<cell line: 5>\u001b[1;34m()\u001b[0m\n\u001b[0;32m      <a href='vscode-notebook-cell:/c%3A/Users/unter/Desktop/AdventOfCode2022/December%2012/12.ipynb#W1sZmlsZQ%3D%3D?line=1'>2</a>\u001b[0m test \u001b[39m=\u001b[39m \u001b[39m\"\u001b[39m\u001b[39m./test.txt\u001b[39m\u001b[39m\"\u001b[39m\n\u001b[0;32m      <a href='vscode-notebook-cell:/c%3A/Users/unter/Desktop/AdventOfCode2022/December%2012/12.ipynb#W1sZmlsZQ%3D%3D?line=3'>4</a>\u001b[0m find_path(example)\n\u001b[1;32m----> <a href='vscode-notebook-cell:/c%3A/Users/unter/Desktop/AdventOfCode2022/December%2012/12.ipynb#W1sZmlsZQ%3D%3D?line=4'>5</a>\u001b[0m find_path(test)\n",
      "\u001b[1;32mc:\\Users\\unter\\Desktop\\AdventOfCode2022\\December 12\\12.ipynb Cell 2\u001b[0m in \u001b[0;36mfind_path\u001b[1;34m(path, verbose)\u001b[0m\n\u001b[0;32m    <a href='vscode-notebook-cell:/c%3A/Users/unter/Desktop/AdventOfCode2022/December%2012/12.ipynb#W1sZmlsZQ%3D%3D?line=100'>101</a>\u001b[0m \u001b[39mmap\u001b[39m \u001b[39m=\u001b[39m convert_map_to_numbers(\u001b[39mmap\u001b[39m)\n\u001b[0;32m    <a href='vscode-notebook-cell:/c%3A/Users/unter/Desktop/AdventOfCode2022/December%2012/12.ipynb#W1sZmlsZQ%3D%3D?line=101'>102</a>\u001b[0m start, end \u001b[39m=\u001b[39m find_start_end(\u001b[39mmap\u001b[39m)\n\u001b[1;32m--> <a href='vscode-notebook-cell:/c%3A/Users/unter/Desktop/AdventOfCode2022/December%2012/12.ipynb#W1sZmlsZQ%3D%3D?line=102'>103</a>\u001b[0m step_count \u001b[39m=\u001b[39m search_path(\u001b[39mmap\u001b[39;49m, start, end, verbose)\n\u001b[0;32m    <a href='vscode-notebook-cell:/c%3A/Users/unter/Desktop/AdventOfCode2022/December%2012/12.ipynb#W1sZmlsZQ%3D%3D?line=103'>104</a>\u001b[0m \u001b[39mif\u001b[39;00m verbose:\n\u001b[0;32m    <a href='vscode-notebook-cell:/c%3A/Users/unter/Desktop/AdventOfCode2022/December%2012/12.ipynb#W1sZmlsZQ%3D%3D?line=104'>105</a>\u001b[0m     pprint(\u001b[39mmap\u001b[39m)\n",
      "\u001b[1;32mc:\\Users\\unter\\Desktop\\AdventOfCode2022\\December 12\\12.ipynb Cell 2\u001b[0m in \u001b[0;36msearch_path\u001b[1;34m(map, start, end, verbose)\u001b[0m\n\u001b[0;32m     <a href='vscode-notebook-cell:/c%3A/Users/unter/Desktop/AdventOfCode2022/December%2012/12.ipynb#W1sZmlsZQ%3D%3D?line=90'>91</a>\u001b[0m             \u001b[39mcontinue\u001b[39;00m\n\u001b[0;32m     <a href='vscode-notebook-cell:/c%3A/Users/unter/Desktop/AdventOfCode2022/December%2012/12.ipynb#W1sZmlsZQ%3D%3D?line=92'>93</a>\u001b[0m     \u001b[39mprint\u001b[39m(\u001b[39m'\u001b[39m\u001b[39mERROR - could not find a proper path!\u001b[39m\u001b[39m'\u001b[39m)\n\u001b[1;32m---> <a href='vscode-notebook-cell:/c%3A/Users/unter/Desktop/AdventOfCode2022/December%2012/12.ipynb#W1sZmlsZQ%3D%3D?line=93'>94</a>\u001b[0m     \u001b[39mraise\u001b[39;00m \u001b[39mValueError\u001b[39;00m\n\u001b[0;32m     <a href='vscode-notebook-cell:/c%3A/Users/unter/Desktop/AdventOfCode2022/December%2012/12.ipynb#W1sZmlsZQ%3D%3D?line=95'>96</a>\u001b[0m \u001b[39mreturn\u001b[39;00m step_count\n",
      "\u001b[1;31mValueError\u001b[0m: "
     ]
    }
   ],
   "source": [
    "example = \"./example.txt\"\n",
    "test = \"./test.txt\"\n",
    "\n",
    "find_path(example)\n",
    "find_path(test)"
   ]
  },
  {
   "cell_type": "code",
   "execution_count": null,
   "metadata": {},
   "outputs": [],
   "source": []
  }
 ],
 "metadata": {
  "kernelspec": {
   "display_name": "Python 3",
   "language": "python",
   "name": "python3"
  },
  "language_info": {
   "codemirror_mode": {
    "name": "ipython",
    "version": 3
   },
   "file_extension": ".py",
   "mimetype": "text/x-python",
   "name": "python",
   "nbconvert_exporter": "python",
   "pygments_lexer": "ipython3",
   "version": "3.10.5 (tags/v3.10.5:f377153, Jun  6 2022, 16:14:13) [MSC v.1929 64 bit (AMD64)]"
  },
  "orig_nbformat": 4,
  "vscode": {
   "interpreter": {
    "hash": "e722b59514372f1067055f4459c08f1716503ebc626df1df188326384d700b09"
   }
  }
 },
 "nbformat": 4,
 "nbformat_minor": 2
}
